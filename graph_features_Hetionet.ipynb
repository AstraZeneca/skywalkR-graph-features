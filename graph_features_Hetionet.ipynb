{
 "cells": [
  {
   "cell_type": "markdown",
   "metadata": {},
   "source": [
    "## Compute Graph Features on a Biomedical Graph (Hetionet)"
   ]
  },
  {
   "source": [
    "In this example notebooks we will use Hetionet (https://het.io/) as an example of biomedical knowledge graph to illustrate how to derive descriptive graph features to be used in skywalkR or other recommendation systems.\n",
    "\n",
    "Hetionet is an integrative network of biomedical knowledge assembled from 29 different databases of genes, compounds, diseases, and more. The network combines over 50 years of biomedical information into a single resource, consisting of 47,031 nodes (11 types) and 2,250,197 relationships (24 types).\n",
    "\n",
    "Hetionet edges can be obtained there: https://github.com/hetio/hetionet/tree/master/hetnet/tsv\n",
    "\n",
    "Unzip the edge TSV and change the following hetionet_path to the location of your edge file."
   ],
   "cell_type": "markdown",
   "metadata": {}
  },
  {
   "cell_type": "code",
   "execution_count": 55,
   "metadata": {},
   "outputs": [],
   "source": [
    "hetionet_path = \"/projects/it/proj/bikg/HETIONET/hetionet-v1.0-edges.sif\""
   ]
  },
  {
   "cell_type": "markdown",
   "metadata": {},
   "source": [
    "First we load up the edges in a pandas dataframe:"
   ]
  },
  {
   "cell_type": "code",
   "execution_count": 56,
   "metadata": {},
   "outputs": [],
   "source": [
    "import pandas as pd\n",
    "\n",
    "hetionet_edges_df = pd.read_csv(hetionet_path, sep=\"\\t\")"
   ]
  },
  {
   "cell_type": "markdown",
   "metadata": {},
   "source": [
    "We can check that we have all of the 2,250,197 edges:"
   ]
  },
  {
   "cell_type": "code",
   "execution_count": 57,
   "metadata": {},
   "outputs": [
    {
     "data": {
      "text/plain": [
       "(2250197, 3)"
      ]
     },
     "execution_count": 57,
     "metadata": {},
     "output_type": "execute_result"
    }
   ],
   "source": [
    "hetionet_edges_df.shape"
   ]
  },
  {
   "cell_type": "markdown",
   "metadata": {},
   "source": [
    "And sample the content:"
   ]
  },
  {
   "cell_type": "code",
   "execution_count": 58,
   "metadata": {},
   "outputs": [
    {
     "data": {
      "text/html": [
       "<div>\n",
       "<style scoped>\n",
       "    .dataframe tbody tr th:only-of-type {\n",
       "        vertical-align: middle;\n",
       "    }\n",
       "\n",
       "    .dataframe tbody tr th {\n",
       "        vertical-align: top;\n",
       "    }\n",
       "\n",
       "    .dataframe thead th {\n",
       "        text-align: right;\n",
       "    }\n",
       "</style>\n",
       "<table border=\"1\" class=\"dataframe\">\n",
       "  <thead>\n",
       "    <tr style=\"text-align: right;\">\n",
       "      <th></th>\n",
       "      <th>source</th>\n",
       "      <th>metaedge</th>\n",
       "      <th>target</th>\n",
       "    </tr>\n",
       "  </thead>\n",
       "  <tbody>\n",
       "    <tr>\n",
       "      <th>987607</th>\n",
       "      <td>Gene::80731</td>\n",
       "      <td>GcG</td>\n",
       "      <td>Gene::80255</td>\n",
       "    </tr>\n",
       "    <tr>\n",
       "      <th>795802</th>\n",
       "      <td>Anatomy::UBERON:0002240</td>\n",
       "      <td>AdG</td>\n",
       "      <td>Gene::7051</td>\n",
       "    </tr>\n",
       "    <tr>\n",
       "      <th>835400</th>\n",
       "      <td>Anatomy::UBERON:0000007</td>\n",
       "      <td>AdG</td>\n",
       "      <td>Gene::3212</td>\n",
       "    </tr>\n",
       "    <tr>\n",
       "      <th>1327952</th>\n",
       "      <td>Gene::55082</td>\n",
       "      <td>Gr&gt;G</td>\n",
       "      <td>Gene::23406</td>\n",
       "    </tr>\n",
       "    <tr>\n",
       "      <th>1456930</th>\n",
       "      <td>Gene::9123</td>\n",
       "      <td>Gr&gt;G</td>\n",
       "      <td>Gene::23399</td>\n",
       "    </tr>\n",
       "  </tbody>\n",
       "</table>\n",
       "</div>"
      ],
      "text/plain": [
       "                          source metaedge       target\n",
       "987607               Gene::80731      GcG  Gene::80255\n",
       "795802   Anatomy::UBERON:0002240      AdG   Gene::7051\n",
       "835400   Anatomy::UBERON:0000007      AdG   Gene::3212\n",
       "1327952              Gene::55082     Gr>G  Gene::23406\n",
       "1456930               Gene::9123     Gr>G  Gene::23399"
      ]
     },
     "execution_count": 58,
     "metadata": {},
     "output_type": "execute_result"
    }
   ],
   "source": [
    "hetionet_edges_df.sample(5)"
   ]
  },
  {
   "cell_type": "markdown",
   "metadata": {},
   "source": [
    "### Building the graph on GPU\n",
    "\n",
    "We will now use cugraph (part of the RAPIDS software suite) to assemble these edge in a graph on GPU. It might seem unecessary for a small graph like Hetionet but makes a big difference for larger graphs."
   ]
  },
  {
   "cell_type": "code",
   "execution_count": 59,
   "metadata": {},
   "outputs": [],
   "source": [
    "import cugraph as cg\n",
    "\n",
    "G = cg.MultiDiGraph()\n",
    "G.from_pandas_edgelist(hetionet_edges_df, source=\"source\", destination=\"target\")"
   ]
  },
  {
   "cell_type": "markdown",
   "metadata": {},
   "source": [
    "We can verify that the GPU VRAM is used (you should see approximately 1.2GB VRAM usage):"
   ]
  },
  {
   "cell_type": "code",
   "execution_count": 60,
   "metadata": {},
   "outputs": [
    {
     "name": "stdout",
     "output_type": "stream",
     "text": [
      "Fri Nov 12 21:04:51 2021       \n",
      "+-----------------------------------------------------------------------------+\n",
      "| NVIDIA-SMI 450.80.02    Driver Version: 450.80.02    CUDA Version: 11.0     |\n",
      "|-------------------------------+----------------------+----------------------+\n",
      "| GPU  Name        Persistence-M| Bus-Id        Disp.A | Volatile Uncorr. ECC |\n",
      "| Fan  Temp  Perf  Pwr:Usage/Cap|         Memory-Usage | GPU-Util  Compute M. |\n",
      "|                               |                      |               MIG M. |\n",
      "|===============================+======================+======================|\n",
      "|   0  Tesla V100-PCIE...  On   | 00000000:04:00.0 Off |                    0 |\n",
      "| N/A   32C    P0    34W / 250W |   1489MiB / 16160MiB |     32%   E. Process |\n",
      "|                               |                      |                  N/A |\n",
      "+-------------------------------+----------------------+----------------------+\n",
      "|   1  Tesla V100-PCIE...  On   | 00000000:05:00.0 Off |                    0 |\n",
      "| N/A   28C    P0    23W / 250W |      4MiB / 16160MiB |      0%   E. Process |\n",
      "|                               |                      |                  N/A |\n",
      "+-------------------------------+----------------------+----------------------+\n",
      "                                                                               \n",
      "+-----------------------------------------------------------------------------+\n",
      "| Processes:                                                                  |\n",
      "|  GPU   GI   CI        PID   Type   Process name                  GPU Memory |\n",
      "|        ID   ID                                                   Usage      |\n",
      "|=============================================================================|\n",
      "|    0   N/A  N/A     14914      C   ...s/rapids-21.08/bin/python     1367MiB |\n",
      "+-----------------------------------------------------------------------------+\n"
     ]
    }
   ],
   "source": [
    "!nvidia-smi"
   ]
  },
  {
   "cell_type": "markdown",
   "metadata": {},
   "source": [
    "And check the number of edges and nodes:"
   ]
  },
  {
   "cell_type": "code",
   "execution_count": 61,
   "metadata": {},
   "outputs": [
    {
     "name": "stdout",
     "output_type": "stream",
     "text": [
      "Number of edges:  2250197\n",
      "Number of nodes:  45158\n"
     ]
    }
   ],
   "source": [
    "print(\"Number of edges: \", len(G.edges()))\n",
    "print(\"Number of nodes: \", len(G.nodes()))"
   ]
  },
  {
   "cell_type": "markdown",
   "metadata": {},
   "source": [
    "## Extract descriptive graph-based features:"
   ]
  },
  {
   "cell_type": "markdown",
   "metadata": {},
   "source": [
    "Here we demonstarte how to compute the following graph features: \n",
    "\n",
    "- **pagerank** ~ a measure of 'popularity' of a node; PageRank is an algorithm used to rank websites in Google’s search results. It counts the number, and quality, of links to a page which determines an estimation of how important the page is. The underlying assumption is that pages of importance are more likely to receive a higher volume of links from other pages.\n",
    "\n",
    "- **betweenness** ~ betweenness centrality is a way of detecting the amount of influence a node has over the flow of information in a graph. It is often used to find nodes that serve as a bridge from one part of a graph to another;\n",
    "\n",
    "- **number of edges connected to a node** ~ one of basic structural properties;\n",
    "\n",
    "- **number of unique neighbours** ~ another basic strutural property.\n",
    "\n",
    "- **distance in embedding space** ~ given a knowledge graph we can learn graph representation for each node, so that a node is mapped to a vector of numbers (embedding). We can then use embeddings to conviently compute distances (similarities) between nodes in the graph."
   ]
  },
  {
   "cell_type": "markdown",
   "metadata": {},
   "source": [
    "### PageRank"
   ]
  },
  {
   "cell_type": "code",
   "execution_count": 62,
   "metadata": {},
   "outputs": [
    {
     "name": "stdout",
     "output_type": "stream",
     "text": [
      "CPU times: user 15.1 ms, sys: 1.25 ms, total: 16.3 ms\n",
      "Wall time: 15 ms\n"
     ]
    },
    {
     "data": {
      "text/html": [
       "<div>\n",
       "<style scoped>\n",
       "    .dataframe tbody tr th:only-of-type {\n",
       "        vertical-align: middle;\n",
       "    }\n",
       "\n",
       "    .dataframe tbody tr th {\n",
       "        vertical-align: top;\n",
       "    }\n",
       "\n",
       "    .dataframe thead th {\n",
       "        text-align: right;\n",
       "    }\n",
       "</style>\n",
       "<table border=\"1\" class=\"dataframe\">\n",
       "  <thead>\n",
       "    <tr style=\"text-align: right;\">\n",
       "      <th></th>\n",
       "      <th>pagerank</th>\n",
       "      <th>vertex</th>\n",
       "    </tr>\n",
       "  </thead>\n",
       "  <tbody>\n",
       "    <tr>\n",
       "      <th>39806</th>\n",
       "      <td>0.000023</td>\n",
       "      <td>Molecular Function::GO:0015923</td>\n",
       "    </tr>\n",
       "    <tr>\n",
       "      <th>7121</th>\n",
       "      <td>0.000014</td>\n",
       "      <td>Gene::152078</td>\n",
       "    </tr>\n",
       "    <tr>\n",
       "      <th>596</th>\n",
       "      <td>0.000016</td>\n",
       "      <td>Gene::4935</td>\n",
       "    </tr>\n",
       "    <tr>\n",
       "      <th>25250</th>\n",
       "      <td>0.000021</td>\n",
       "      <td>Gene::26271</td>\n",
       "    </tr>\n",
       "    <tr>\n",
       "      <th>34152</th>\n",
       "      <td>0.000014</td>\n",
       "      <td>Side Effect::C0854146</td>\n",
       "    </tr>\n",
       "  </tbody>\n",
       "</table>\n",
       "</div>"
      ],
      "text/plain": [
       "       pagerank                          vertex\n",
       "39806  0.000023  Molecular Function::GO:0015923\n",
       "7121   0.000014                    Gene::152078\n",
       "596    0.000016                      Gene::4935\n",
       "25250  0.000021                     Gene::26271\n",
       "34152  0.000014           Side Effect::C0854146"
      ]
     },
     "execution_count": 62,
     "metadata": {},
     "output_type": "execute_result"
    }
   ],
   "source": [
    "%%time\n",
    "pr_df = cg.pagerank(G)\n",
    "pr_df.sample(5)"
   ]
  },
  {
   "cell_type": "markdown",
   "metadata": {},
   "source": [
    "### Betweenness Centrality"
   ]
  },
  {
   "cell_type": "code",
   "execution_count": 63,
   "metadata": {},
   "outputs": [
    {
     "name": "stdout",
     "output_type": "stream",
     "text": [
      "CPU times: user 1min 23s, sys: 25.6 s, total: 1min 49s\n",
      "Wall time: 1min 48s\n"
     ]
    },
    {
     "data": {
      "text/html": [
       "<div>\n",
       "<style scoped>\n",
       "    .dataframe tbody tr th:only-of-type {\n",
       "        vertical-align: middle;\n",
       "    }\n",
       "\n",
       "    .dataframe tbody tr th {\n",
       "        vertical-align: top;\n",
       "    }\n",
       "\n",
       "    .dataframe thead th {\n",
       "        text-align: right;\n",
       "    }\n",
       "</style>\n",
       "<table border=\"1\" class=\"dataframe\">\n",
       "  <thead>\n",
       "    <tr style=\"text-align: right;\">\n",
       "      <th></th>\n",
       "      <th>betweenness_centrality</th>\n",
       "      <th>vertex</th>\n",
       "    </tr>\n",
       "  </thead>\n",
       "  <tbody>\n",
       "    <tr>\n",
       "      <th>30807</th>\n",
       "      <td>0.000000</td>\n",
       "      <td>Side Effect::C1096116</td>\n",
       "    </tr>\n",
       "    <tr>\n",
       "      <th>33517</th>\n",
       "      <td>0.000000</td>\n",
       "      <td>Gene::727851</td>\n",
       "    </tr>\n",
       "    <tr>\n",
       "      <th>18613</th>\n",
       "      <td>0.000000</td>\n",
       "      <td>Pharmacologic Class::N0000008016</td>\n",
       "    </tr>\n",
       "    <tr>\n",
       "      <th>1525</th>\n",
       "      <td>0.000000</td>\n",
       "      <td>Gene::400629</td>\n",
       "    </tr>\n",
       "    <tr>\n",
       "      <th>9403</th>\n",
       "      <td>0.000009</td>\n",
       "      <td>Gene::89849</td>\n",
       "    </tr>\n",
       "  </tbody>\n",
       "</table>\n",
       "</div>"
      ],
      "text/plain": [
       "       betweenness_centrality                            vertex\n",
       "30807                0.000000             Side Effect::C1096116\n",
       "33517                0.000000                      Gene::727851\n",
       "18613                0.000000  Pharmacologic Class::N0000008016\n",
       "1525                 0.000000                      Gene::400629\n",
       "9403                 0.000009                       Gene::89849"
      ]
     },
     "execution_count": 63,
     "metadata": {},
     "output_type": "execute_result"
    }
   ],
   "source": [
    "%%time\n",
    "bc_df = cg.betweenness_centrality(G)\n",
    "bc_df.sample(5)"
   ]
  },
  {
   "cell_type": "markdown",
   "metadata": {},
   "source": [
    "### Number of edges connected to a node"
   ]
  },
  {
   "cell_type": "markdown",
   "metadata": {},
   "source": [
    "First we compute the in- and out- degrees of each nodes"
   ]
  },
  {
   "cell_type": "code",
   "execution_count": 64,
   "metadata": {},
   "outputs": [
    {
     "name": "stdout",
     "output_type": "stream",
     "text": [
      "CPU times: user 8.19 ms, sys: 1.56 ms, total: 9.76 ms\n",
      "Wall time: 8.3 ms\n"
     ]
    },
    {
     "data": {
      "text/html": [
       "<div>\n",
       "<style scoped>\n",
       "    .dataframe tbody tr th:only-of-type {\n",
       "        vertical-align: middle;\n",
       "    }\n",
       "\n",
       "    .dataframe tbody tr th {\n",
       "        vertical-align: top;\n",
       "    }\n",
       "\n",
       "    .dataframe thead th {\n",
       "        text-align: right;\n",
       "    }\n",
       "</style>\n",
       "<table border=\"1\" class=\"dataframe\">\n",
       "  <thead>\n",
       "    <tr style=\"text-align: right;\">\n",
       "      <th></th>\n",
       "      <th>in_degree</th>\n",
       "      <th>out_degree</th>\n",
       "      <th>vertex</th>\n",
       "    </tr>\n",
       "  </thead>\n",
       "  <tbody>\n",
       "    <tr>\n",
       "      <th>42676</th>\n",
       "      <td>33</td>\n",
       "      <td>36</td>\n",
       "      <td>Gene::27130</td>\n",
       "    </tr>\n",
       "    <tr>\n",
       "      <th>2284</th>\n",
       "      <td>3</td>\n",
       "      <td>0</td>\n",
       "      <td>Side Effect::C0262593</td>\n",
       "    </tr>\n",
       "    <tr>\n",
       "      <th>10569</th>\n",
       "      <td>35</td>\n",
       "      <td>44</td>\n",
       "      <td>Gene::3177</td>\n",
       "    </tr>\n",
       "    <tr>\n",
       "      <th>684</th>\n",
       "      <td>1</td>\n",
       "      <td>0</td>\n",
       "      <td>Side Effect::C0235564</td>\n",
       "    </tr>\n",
       "    <tr>\n",
       "      <th>19070</th>\n",
       "      <td>25</td>\n",
       "      <td>0</td>\n",
       "      <td>Biological Process::GO:0045577</td>\n",
       "    </tr>\n",
       "  </tbody>\n",
       "</table>\n",
       "</div>"
      ],
      "text/plain": [
       "       in_degree  out_degree                          vertex\n",
       "42676         33          36                     Gene::27130\n",
       "2284           3           0           Side Effect::C0262593\n",
       "10569         35          44                      Gene::3177\n",
       "684            1           0           Side Effect::C0235564\n",
       "19070         25           0  Biological Process::GO:0045577"
      ]
     },
     "execution_count": 64,
     "metadata": {},
     "output_type": "execute_result"
    }
   ],
   "source": [
    "%%time\n",
    "degs_df = G.degrees()\n",
    "degs_df.sample(5)"
   ]
  },
  {
   "cell_type": "markdown",
   "metadata": {},
   "source": [
    "Note that the vertex 5 has an in degree of 3, which means this method actually counts the number of edges, and not the number of neighbours! To get the number of edges attached to each vertex we just have to sum the number of ingoing and outgoing edges"
   ]
  },
  {
   "cell_type": "code",
   "execution_count": 65,
   "metadata": {},
   "outputs": [
    {
     "data": {
      "text/html": [
       "<div>\n",
       "<style scoped>\n",
       "    .dataframe tbody tr th:only-of-type {\n",
       "        vertical-align: middle;\n",
       "    }\n",
       "\n",
       "    .dataframe tbody tr th {\n",
       "        vertical-align: top;\n",
       "    }\n",
       "\n",
       "    .dataframe thead th {\n",
       "        text-align: right;\n",
       "    }\n",
       "</style>\n",
       "<table border=\"1\" class=\"dataframe\">\n",
       "  <thead>\n",
       "    <tr style=\"text-align: right;\">\n",
       "      <th></th>\n",
       "      <th>in_degree</th>\n",
       "      <th>out_degree</th>\n",
       "      <th>vertex</th>\n",
       "      <th>n_edges</th>\n",
       "    </tr>\n",
       "  </thead>\n",
       "  <tbody>\n",
       "    <tr>\n",
       "      <th>36069</th>\n",
       "      <td>100</td>\n",
       "      <td>0</td>\n",
       "      <td>Biological Process::GO:0044724</td>\n",
       "      <td>100</td>\n",
       "    </tr>\n",
       "    <tr>\n",
       "      <th>41113</th>\n",
       "      <td>64</td>\n",
       "      <td>32</td>\n",
       "      <td>Gene::153769</td>\n",
       "      <td>96</td>\n",
       "    </tr>\n",
       "    <tr>\n",
       "      <th>29358</th>\n",
       "      <td>3</td>\n",
       "      <td>0</td>\n",
       "      <td>Biological Process::GO:0097091</td>\n",
       "      <td>3</td>\n",
       "    </tr>\n",
       "    <tr>\n",
       "      <th>40353</th>\n",
       "      <td>103</td>\n",
       "      <td>0</td>\n",
       "      <td>Biological Process::GO:0061387</td>\n",
       "      <td>103</td>\n",
       "    </tr>\n",
       "    <tr>\n",
       "      <th>35563</th>\n",
       "      <td>17</td>\n",
       "      <td>13</td>\n",
       "      <td>Gene::340547</td>\n",
       "      <td>30</td>\n",
       "    </tr>\n",
       "  </tbody>\n",
       "</table>\n",
       "</div>"
      ],
      "text/plain": [
       "       in_degree  out_degree                          vertex  n_edges\n",
       "36069        100           0  Biological Process::GO:0044724      100\n",
       "41113         64          32                    Gene::153769       96\n",
       "29358          3           0  Biological Process::GO:0097091        3\n",
       "40353        103           0  Biological Process::GO:0061387      103\n",
       "35563         17          13                    Gene::340547       30"
      ]
     },
     "execution_count": 65,
     "metadata": {},
     "output_type": "execute_result"
    }
   ],
   "source": [
    "degs_df[\"n_edges\"] = degs_df[\"in_degree\"]+degs_df[\"out_degree\"]\n",
    "degs_df.sample(5)"
   ]
  },
  {
   "cell_type": "markdown",
   "metadata": {},
   "source": [
    "### Number of unique neighbours"
   ]
  },
  {
   "cell_type": "markdown",
   "metadata": {},
   "source": [
    "For this feature we will reuse the degree method, but this time we will force the graph to be undirected and without multiedges, effectively counting the number of neighbours."
   ]
  },
  {
   "cell_type": "code",
   "execution_count": 66,
   "metadata": {},
   "outputs": [],
   "source": [
    "simpleG = cg.Graph(G)"
   ]
  },
  {
   "cell_type": "code",
   "execution_count": 67,
   "metadata": {},
   "outputs": [
    {
     "data": {
      "text/html": [
       "<div>\n",
       "<style scoped>\n",
       "    .dataframe tbody tr th:only-of-type {\n",
       "        vertical-align: middle;\n",
       "    }\n",
       "\n",
       "    .dataframe tbody tr th {\n",
       "        vertical-align: top;\n",
       "    }\n",
       "\n",
       "    .dataframe thead th {\n",
       "        text-align: right;\n",
       "    }\n",
       "</style>\n",
       "<table border=\"1\" class=\"dataframe\">\n",
       "  <thead>\n",
       "    <tr style=\"text-align: right;\">\n",
       "      <th></th>\n",
       "      <th>in_degree</th>\n",
       "      <th>out_degree</th>\n",
       "      <th>vertex</th>\n",
       "    </tr>\n",
       "  </thead>\n",
       "  <tbody>\n",
       "    <tr>\n",
       "      <th>38180</th>\n",
       "      <td>14</td>\n",
       "      <td>14</td>\n",
       "      <td>Biological Process::GO:0035864</td>\n",
       "    </tr>\n",
       "    <tr>\n",
       "      <th>835</th>\n",
       "      <td>339</td>\n",
       "      <td>339</td>\n",
       "      <td>Gene::55294</td>\n",
       "    </tr>\n",
       "    <tr>\n",
       "      <th>40763</th>\n",
       "      <td>128</td>\n",
       "      <td>128</td>\n",
       "      <td>Gene::117144</td>\n",
       "    </tr>\n",
       "    <tr>\n",
       "      <th>21063</th>\n",
       "      <td>8</td>\n",
       "      <td>8</td>\n",
       "      <td>Biological Process::GO:0071501</td>\n",
       "    </tr>\n",
       "    <tr>\n",
       "      <th>20092</th>\n",
       "      <td>74</td>\n",
       "      <td>74</td>\n",
       "      <td>Compound::DB00720</td>\n",
       "    </tr>\n",
       "  </tbody>\n",
       "</table>\n",
       "</div>"
      ],
      "text/plain": [
       "       in_degree  out_degree                          vertex\n",
       "38180         14          14  Biological Process::GO:0035864\n",
       "835          339         339                     Gene::55294\n",
       "40763        128         128                    Gene::117144\n",
       "21063          8           8  Biological Process::GO:0071501\n",
       "20092         74          74               Compound::DB00720"
      ]
     },
     "execution_count": 67,
     "metadata": {},
     "output_type": "execute_result"
    }
   ],
   "source": [
    "uniq_neigh_df = simpleG.degrees()\n",
    "uniq_neigh_df.sample(5)"
   ]
  },
  {
   "cell_type": "markdown",
   "metadata": {},
   "source": [
    "Since we have an undirected graph, both in and out degrees can be used as a count of neighbours"
   ]
  },
  {
   "cell_type": "markdown",
   "metadata": {},
   "source": [
    "### Embedding distance"
   ]
  },
  {
   "cell_type": "markdown",
   "metadata": {},
   "source": [
    "For this example we will use a simple node-embedding technique provided via the karateclub package, SocioDim. For more informations on this package, please visit https://karateclub.readthedocs.io/en/latest/index.html"
   ]
  },
  {
   "cell_type": "code",
   "execution_count": 68,
   "metadata": {},
   "outputs": [],
   "source": [
    "import networkx as nx\n",
    "from karateclub.node_embedding.neighbourhood import SocioDim\n"
   ]
  },
  {
   "cell_type": "markdown",
   "metadata": {},
   "source": [
    "cugraph is not a backend supported by karateclub so we will have to resort to networkx for this part of the example:"
   ]
  },
  {
   "cell_type": "code",
   "execution_count": 69,
   "metadata": {},
   "outputs": [],
   "source": [
    "hetionet_nx = nx.Graph(hetionet_edges_df)"
   ]
  },
  {
   "cell_type": "markdown",
   "metadata": {},
   "source": [
    "And we must reindex the nodes for karateclub:"
   ]
  },
  {
   "cell_type": "code",
   "execution_count": 95,
   "metadata": {},
   "outputs": [],
   "source": [
    "reindexed_hetionet = nx.relabel.convert_node_labels_to_integers(hetionet_nx, first_label=0, ordering='default', label_attribute='old_label')"
   ]
  },
  {
   "cell_type": "markdown",
   "metadata": {},
   "source": [
    "And keep a mapping to the labels:"
   ]
  },
  {
   "cell_type": "code",
   "execution_count": 99,
   "metadata": {},
   "outputs": [],
   "source": [
    "node_mapping = nx.get_node_attributes(reindexed_hetionet, \"old_label\")"
   ]
  },
  {
   "cell_type": "markdown",
   "metadata": {},
   "source": [
    "For example, let's assume node 100 is our gene of interest:"
   ]
  },
  {
   "cell_type": "code",
   "execution_count": 100,
   "metadata": {},
   "outputs": [
    {
     "data": {
      "text/plain": [
       "'Gene::10673'"
      ]
     },
     "execution_count": 100,
     "metadata": {},
     "output_type": "execute_result"
    }
   ],
   "source": [
    "node_mapping[100]"
   ]
  },
  {
   "cell_type": "markdown",
   "metadata": {},
   "source": [
    "Now we train a 2-dimensionnal node embedding of Hetionet:"
   ]
  },
  {
   "cell_type": "code",
   "execution_count": 89,
   "metadata": {},
   "outputs": [],
   "source": [
    "model = SocioDim(dimensions=2)\n",
    "model.fit(reindexed_hetionet)\n",
    "embedding = model.get_embedding()"
   ]
  },
  {
   "cell_type": "code",
   "execution_count": 90,
   "metadata": {},
   "outputs": [
    {
     "data": {
      "text/plain": [
       "(45158, 2)"
      ]
     },
     "execution_count": 90,
     "metadata": {},
     "output_type": "execute_result"
    }
   ],
   "source": [
    "embedding.shape"
   ]
  },
  {
   "cell_type": "markdown",
   "metadata": {},
   "source": [
    "As an example, we can retrieve the embedding of the gene found in position 100:"
   ]
  },
  {
   "cell_type": "code",
   "execution_count": 102,
   "metadata": {},
   "outputs": [
    {
     "data": {
      "text/plain": [
       "array([0.00097192, 0.0005156 ])"
      ]
     },
     "execution_count": 102,
     "metadata": {},
     "output_type": "execute_result"
    }
   ],
   "source": [
    "gene_emb = embedding[0]\n",
    "gene_emb"
   ]
  },
  {
   "cell_type": "markdown",
   "metadata": {},
   "source": [
    "### Computing distance to the gene of interest in the embedding space"
   ]
  },
  {
   "cell_type": "code",
   "execution_count": 19,
   "metadata": {},
   "outputs": [],
   "source": [
    "import numpy as np"
   ]
  },
  {
   "cell_type": "code",
   "execution_count": 104,
   "metadata": {},
   "outputs": [],
   "source": [
    "L2_distance_to_gene = np.linalg.norm(np.subtract(embedding, disease), axis=1)"
   ]
  },
  {
   "cell_type": "code",
   "execution_count": 105,
   "metadata": {},
   "outputs": [
    {
     "data": {
      "text/plain": [
       "array([4.74048727e-03, 5.46651015e-03, 7.85429459e-18, ...,\n",
       "       4.44516781e-03, 4.22786202e-03, 4.56106692e-03])"
      ]
     },
     "execution_count": 105,
     "metadata": {},
     "output_type": "execute_result"
    }
   ],
   "source": [
    "L2_distance_to_gene"
   ]
  }
 ],
 "metadata": {
  "kernelspec": {
   "name": "python3",
   "display_name": "Python 3.9.5 64-bit",
   "metadata": {
    "interpreter": {
     "hash": "aee8b7b246df8f9039afb4144a1f6fd8d2ca17a180786b69acc140d282b71a49"
    }
   }
  },
  "language_info": {
   "codemirror_mode": {
    "name": "ipython",
    "version": 3
   },
   "file_extension": ".py",
   "mimetype": "text/x-python",
   "name": "python",
   "nbconvert_exporter": "python",
   "pygments_lexer": "ipython3",
   "version": "3.9.5-final"
  }
 },
 "nbformat": 4,
 "nbformat_minor": 4
}